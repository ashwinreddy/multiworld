{
 "cells": [
  {
   "cell_type": "code",
   "execution_count": 102,
   "metadata": {
    "scrolled": false
   },
   "outputs": [
    {
     "data": {
      "text/plain": [
       "<matplotlib.image.AxesImage at 0x7f13dec38160>"
      ]
     },
     "execution_count": 102,
     "metadata": {},
     "output_type": "execute_result"
    },
    {
     "data": {
      "image/png": "[encoded data removed]",
      "text/plain": [
       "<Figure size 432x288 with 1 Axes>"
      ]
     },
     "metadata": {
      "needs_background": "light"
     },
     "output_type": "display_data"
    }
   ],
   "source": [
    "%reload_ext autoreload\n",
    "%autoreload 2\n",
    "\n",
    "from multiworld.envs.pygame.point2d import Point2DWallEnv\n",
    "import matplotlib.pyplot as plt\n",
    "import numpy as np\n",
    "\n",
    "env_params = {\n",
    "    'easy-maze': {\n",
    "        'init_pos_range': ((-2.5, -2.5), (-2.5, -2.5)),\n",
    "        'target_pos_range': ((2.5, -2.5), (2.5, -2.5)),\n",
    "    },\n",
    "    'medium-maze': {\n",
    "        'init_pos_range': ((-3, -3), (-3, -3)),\n",
    "        'target_pos_range': ((3, 3), (3, 3)),\n",
    "    },\n",
    "    'hard-maze': {\n",
    "        'init_pos_range': ((-3, -3), (-3, -3)),\n",
    "        'target_pos_range': ((-0.5, 1.25), (-0.5, 1.25)), \n",
    "    },\n",
    "    'horizontal-maze': {\n",
    "        'init_pos_range': ((-3, -3), (-3, -3)),\n",
    "        'target_pos_range': ((-3, 3), (-3, 3)),\n",
    "    }\n",
    "}\n",
    "maze_type = 'horizontal-maze'\n",
    "\n",
    "env = Point2DWallEnv(wall_shape=maze_type, images_are_rgb=True, **env_params.get(maze_type, {}))\n",
    "# plt.imshow(env.render(mode='rgb_array', width=480, height=480).reshape(480, 480), cmap='gray')\n",
    "im = env.get_image(width=256, height=256)\n",
    "# im[im == 1] = 255\n",
    "plt.imshow(im, extent=(-4, 4, -4, 4))\n",
    "# print(im)"
   ]
  },
  {
   "cell_type": "code",
   "execution_count": 60,
   "metadata": {},
   "outputs": [
    {
     "ename": "NameError",
     "evalue": "name 'e' is not defined",
     "output_type": "error",
     "traceback": [
      "\u001b[0;31m---------------------------------------------------------------------------\u001b[0m",
      "\u001b[0;31mNameError\u001b[0m                                 Traceback (most recent call last)",
      "\u001b[0;32m<ipython-input-60-d6716181c605>\u001b[0m in \u001b[0;36m<module>\u001b[0;34m\u001b[0m\n\u001b[0;32m----> 1\u001b[0;31m \u001b[0me\u001b[0m\u001b[0;34m.\u001b[0m\u001b[0mrender\u001b[0m\u001b[0;34m(\u001b[0m\u001b[0mmode\u001b[0m\u001b[0;34m=\u001b[0m\u001b[0;34m'rgb_array'\u001b[0m\u001b[0;34m)\u001b[0m\u001b[0;34m\u001b[0m\u001b[0;34m\u001b[0m\u001b[0m\n\u001b[0m",
      "\u001b[0;31mNameError\u001b[0m: name 'e' is not defined"
     ]
    }
   ],
   "source": [
    "e.render(mode='rgb_array')"
   ]
  },
  {
   "cell_type": "code",
   "execution_count": null,
   "metadata": {},
   "outputs": [],
   "source": []
  }
 ],
 "metadata": {
  "kernelspec": {
   "display_name": "Python 3",
   "language": "python",
   "name": "python3"
  },
  "language_info": {
   "codemirror_mode": {
    "name": "ipython",
    "version": 3
   },
   "file_extension": ".py",
   "mimetype": "text/x-python",
   "name": "python",
   "nbconvert_exporter": "python",
   "pygments_lexer": "ipython3",
   "version": "3.7.3"
  }
 },
 "nbformat": 4,
 "nbformat_minor": 4
}
